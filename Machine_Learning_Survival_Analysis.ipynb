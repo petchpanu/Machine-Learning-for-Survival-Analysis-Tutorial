{
  "nbformat": 4,
  "nbformat_minor": 0,
  "metadata": {
    "colab": {
      "name": "Machine Learning Survival Analysis.ipynb",
      "provenance": [],
      "collapsed_sections": []
    },
    "kernelspec": {
      "name": "python3",
      "display_name": "Python 3"
    }
  },
  "cells": [
    {
      "cell_type": "code",
      "metadata": {
        "id": "JAflghbyKsDt",
        "colab_type": "code",
        "colab": {
          "base_uri": "https://localhost:8080/",
          "height": 513
        },
        "outputId": "770cc826-146d-46ca-f3f8-f60db8dbc2bf"
      },
      "source": [
        "!pip install scikit-survival==0.12"
      ],
      "execution_count": null,
      "outputs": [
        {
          "output_type": "stream",
          "text": [
            "Collecting scikit-survival==0.12\n",
            "\u001b[?25l  Downloading https://files.pythonhosted.org/packages/5a/04/f8b7f3ad96c234f853b03292ba73e1a9cc0526ebb087ffb00336fd13e9d3/scikit-survival-0.12.0.tar.gz (1.8MB)\n",
            "\u001b[K     |████████████████████████████████| 1.8MB 9.4MB/s \n",
            "\u001b[?25hRequirement already satisfied: cvxopt in /usr/local/lib/python3.6/dist-packages (from scikit-survival==0.12) (1.2.5)\n",
            "Requirement already satisfied: cvxpy>=1.0 in /usr/local/lib/python3.6/dist-packages (from scikit-survival==0.12) (1.0.31)\n",
            "Requirement already satisfied: cython>=0.29 in /usr/local/lib/python3.6/dist-packages (from scikit-survival==0.12) (0.29.20)\n",
            "Requirement already satisfied: numexpr in /usr/local/lib/python3.6/dist-packages (from scikit-survival==0.12) (2.7.1)\n",
            "Requirement already satisfied: numpy in /usr/local/lib/python3.6/dist-packages (from scikit-survival==0.12) (1.18.5)\n",
            "Requirement already satisfied: osqp!=0.6.0,!=0.6.1 in /usr/local/lib/python3.6/dist-packages (from scikit-survival==0.12) (0.5.0)\n",
            "Requirement already satisfied: pandas>=0.21 in /usr/local/lib/python3.6/dist-packages (from scikit-survival==0.12) (1.0.5)\n",
            "Requirement already satisfied: scipy!=1.3.0,>=1.0 in /usr/local/lib/python3.6/dist-packages (from scikit-survival==0.12) (1.4.1)\n",
            "Requirement already satisfied: scikit-learn<0.23,>=0.22.0 in /usr/local/lib/python3.6/dist-packages (from scikit-survival==0.12) (0.22.2.post1)\n",
            "Requirement already satisfied: multiprocess in /usr/local/lib/python3.6/dist-packages (from cvxpy>=1.0->scikit-survival==0.12) (0.70.10)\n",
            "Requirement already satisfied: ecos>=2 in /usr/local/lib/python3.6/dist-packages (from cvxpy>=1.0->scikit-survival==0.12) (2.0.7.post1)\n",
            "Requirement already satisfied: scs>=1.1.3 in /usr/local/lib/python3.6/dist-packages (from cvxpy>=1.0->scikit-survival==0.12) (2.1.2)\n",
            "Requirement already satisfied: future in /usr/local/lib/python3.6/dist-packages (from osqp!=0.6.0,!=0.6.1->scikit-survival==0.12) (0.16.0)\n",
            "Requirement already satisfied: python-dateutil>=2.6.1 in /usr/local/lib/python3.6/dist-packages (from pandas>=0.21->scikit-survival==0.12) (2.8.1)\n",
            "Requirement already satisfied: pytz>=2017.2 in /usr/local/lib/python3.6/dist-packages (from pandas>=0.21->scikit-survival==0.12) (2018.9)\n",
            "Requirement already satisfied: joblib>=0.11 in /usr/local/lib/python3.6/dist-packages (from scikit-learn<0.23,>=0.22.0->scikit-survival==0.12) (0.15.1)\n",
            "Requirement already satisfied: dill>=0.3.2 in /usr/local/lib/python3.6/dist-packages (from multiprocess->cvxpy>=1.0->scikit-survival==0.12) (0.3.2)\n",
            "Requirement already satisfied: six>=1.5 in /usr/local/lib/python3.6/dist-packages (from python-dateutil>=2.6.1->pandas>=0.21->scikit-survival==0.12) (1.12.0)\n",
            "Building wheels for collected packages: scikit-survival\n",
            "  Building wheel for scikit-survival (setup.py) ... \u001b[?25l\u001b[?25hdone\n",
            "  Created wheel for scikit-survival: filename=scikit_survival-0.12.0-cp36-cp36m-linux_x86_64.whl size=2346136 sha256=cb7ba6d524b69575eaeed861acd808c5b74593247e37ff528dead19393d6abb0\n",
            "  Stored in directory: /root/.cache/pip/wheels/66/36/bb/c9b84bf4ebb6aa9be26b851060b0012abab4b43ffd4b4eaf6d\n",
            "Successfully built scikit-survival\n",
            "Installing collected packages: scikit-survival\n",
            "Successfully installed scikit-survival-0.12.0\n"
          ],
          "name": "stdout"
        }
      ]
    },
    {
      "cell_type": "markdown",
      "metadata": {
        "id": "q63d4O7WNSan",
        "colab_type": "text"
      },
      "source": [
        "## Load Packages Dependencies"
      ]
    },
    {
      "cell_type": "code",
      "metadata": {
        "id": "krpxSbzsJ3xV",
        "colab_type": "code",
        "colab": {}
      },
      "source": [
        "import pandas as pd\n",
        "import matplotlib.pyplot as plt\n",
        "import numpy as np\n",
        "\n",
        "from sklearn.model_selection import train_test_split\n",
        "from sklearn.preprocessing import OrdinalEncoder\n",
        "from sklearn.inspection import permutation_importance\n",
        "from sklearn.feature_selection import SelectKBest\n",
        "from sklearn.pipeline import Pipeline\n",
        "from sklearn.model_selection import GridSearchCV\n",
        "\n",
        "from sksurv.datasets import load_gbsg2\n",
        "from sksurv.preprocessing import OneHotEncoder\n",
        "from sksurv.ensemble import RandomSurvivalForest\n",
        "from sksurv.metrics import concordance_index_censored\n",
        "from sksurv.linear_model import CoxPHSurvivalAnalysis"
      ],
      "execution_count": null,
      "outputs": []
    },
    {
      "cell_type": "markdown",
      "metadata": {
        "id": "WhxzBQ9KNppP",
        "colab_type": "text"
      },
      "source": [
        "## Data Preprocessing"
      ]
    },
    {
      "cell_type": "code",
      "metadata": {
        "id": "_NSaz1PsKiZm",
        "colab_type": "code",
        "colab": {}
      },
      "source": [
        "# load German Breast Cancer Study Group (GBSG-2) dataset\n",
        "X, y = load_gbsg2() "
      ],
      "execution_count": null,
      "outputs": []
    },
    {
      "cell_type": "code",
      "metadata": {
        "id": "6cl1RKoFNsLp",
        "colab_type": "code",
        "colab": {
          "base_uri": "https://localhost:8080/",
          "height": 204
        },
        "outputId": "6fb83e5c-3123-41c3-c3c9-6be2630c6ac9"
      },
      "source": [
        "# Preview dataset\n",
        "X.head()"
      ],
      "execution_count": null,
      "outputs": [
        {
          "output_type": "execute_result",
          "data": {
            "text/html": [
              "<div>\n",
              "<style scoped>\n",
              "    .dataframe tbody tr th:only-of-type {\n",
              "        vertical-align: middle;\n",
              "    }\n",
              "\n",
              "    .dataframe tbody tr th {\n",
              "        vertical-align: top;\n",
              "    }\n",
              "\n",
              "    .dataframe thead th {\n",
              "        text-align: right;\n",
              "    }\n",
              "</style>\n",
              "<table border=\"1\" class=\"dataframe\">\n",
              "  <thead>\n",
              "    <tr style=\"text-align: right;\">\n",
              "      <th></th>\n",
              "      <th>age</th>\n",
              "      <th>estrec</th>\n",
              "      <th>horTh</th>\n",
              "      <th>menostat</th>\n",
              "      <th>pnodes</th>\n",
              "      <th>progrec</th>\n",
              "      <th>tgrade</th>\n",
              "      <th>tsize</th>\n",
              "    </tr>\n",
              "  </thead>\n",
              "  <tbody>\n",
              "    <tr>\n",
              "      <th>0</th>\n",
              "      <td>70.0</td>\n",
              "      <td>66.0</td>\n",
              "      <td>no</td>\n",
              "      <td>Post</td>\n",
              "      <td>3.0</td>\n",
              "      <td>48.0</td>\n",
              "      <td>II</td>\n",
              "      <td>21.0</td>\n",
              "    </tr>\n",
              "    <tr>\n",
              "      <th>1</th>\n",
              "      <td>56.0</td>\n",
              "      <td>77.0</td>\n",
              "      <td>yes</td>\n",
              "      <td>Post</td>\n",
              "      <td>7.0</td>\n",
              "      <td>61.0</td>\n",
              "      <td>II</td>\n",
              "      <td>12.0</td>\n",
              "    </tr>\n",
              "    <tr>\n",
              "      <th>2</th>\n",
              "      <td>58.0</td>\n",
              "      <td>271.0</td>\n",
              "      <td>yes</td>\n",
              "      <td>Post</td>\n",
              "      <td>9.0</td>\n",
              "      <td>52.0</td>\n",
              "      <td>II</td>\n",
              "      <td>35.0</td>\n",
              "    </tr>\n",
              "    <tr>\n",
              "      <th>3</th>\n",
              "      <td>59.0</td>\n",
              "      <td>29.0</td>\n",
              "      <td>yes</td>\n",
              "      <td>Post</td>\n",
              "      <td>4.0</td>\n",
              "      <td>60.0</td>\n",
              "      <td>II</td>\n",
              "      <td>17.0</td>\n",
              "    </tr>\n",
              "    <tr>\n",
              "      <th>4</th>\n",
              "      <td>73.0</td>\n",
              "      <td>65.0</td>\n",
              "      <td>no</td>\n",
              "      <td>Post</td>\n",
              "      <td>1.0</td>\n",
              "      <td>26.0</td>\n",
              "      <td>II</td>\n",
              "      <td>35.0</td>\n",
              "    </tr>\n",
              "  </tbody>\n",
              "</table>\n",
              "</div>"
            ],
            "text/plain": [
              "    age  estrec horTh menostat  pnodes  progrec tgrade  tsize\n",
              "0  70.0    66.0    no     Post     3.0     48.0     II   21.0\n",
              "1  56.0    77.0   yes     Post     7.0     61.0     II   12.0\n",
              "2  58.0   271.0   yes     Post     9.0     52.0     II   35.0\n",
              "3  59.0    29.0   yes     Post     4.0     60.0     II   17.0\n",
              "4  73.0    65.0    no     Post     1.0     26.0     II   35.0"
            ]
          },
          "metadata": {
            "tags": []
          },
          "execution_count": 8
        }
      ]
    },
    {
      "cell_type": "code",
      "metadata": {
        "id": "u34lTAz4N0cY",
        "colab_type": "code",
        "colab": {
          "base_uri": "https://localhost:8080/",
          "height": 102
        },
        "outputId": "1371ba65-d766-4261-c3f6-8a7fad89a063"
      },
      "source": [
        "# Transform tgrade from string to ordinal\n",
        "tgrade = X['tgrade'].astype('object').values\n",
        "tgrade = tgrade.reshape(-1,1)\n",
        "tgrade = OrdinalEncoder().fit_transform(tgrade)\n",
        "tgrade"
      ],
      "execution_count": null,
      "outputs": [
        {
          "output_type": "execute_result",
          "data": {
            "text/plain": [
              "array([[1.],\n",
              "       [1.],\n",
              "       [1.],\n",
              "       [1.],\n",
              "       [1.]])"
            ]
          },
          "metadata": {
            "tags": []
          },
          "execution_count": 85
        }
      ]
    },
    {
      "cell_type": "code",
      "metadata": {
        "id": "OKe245iRMKVn",
        "colab_type": "code",
        "colab": {
          "base_uri": "https://localhost:8080/",
          "height": 419
        },
        "outputId": "e1197909-0034-4895-92d8-29672805465a"
      },
      "source": [
        "# Transform horTh and menostat columns from string to binary value\n",
        "cols = OneHotEncoder().fit_transform(X[['horTh', 'menostat']])"
      ],
      "execution_count": null,
      "outputs": [
        {
          "output_type": "execute_result",
          "data": {
            "text/html": [
              "<div>\n",
              "<style scoped>\n",
              "    .dataframe tbody tr th:only-of-type {\n",
              "        vertical-align: middle;\n",
              "    }\n",
              "\n",
              "    .dataframe tbody tr th {\n",
              "        vertical-align: top;\n",
              "    }\n",
              "\n",
              "    .dataframe thead th {\n",
              "        text-align: right;\n",
              "    }\n",
              "</style>\n",
              "<table border=\"1\" class=\"dataframe\">\n",
              "  <thead>\n",
              "    <tr style=\"text-align: right;\">\n",
              "      <th></th>\n",
              "      <th>horTh=yes</th>\n",
              "      <th>menostat=Post</th>\n",
              "    </tr>\n",
              "  </thead>\n",
              "  <tbody>\n",
              "    <tr>\n",
              "      <th>0</th>\n",
              "      <td>0.0</td>\n",
              "      <td>1.0</td>\n",
              "    </tr>\n",
              "    <tr>\n",
              "      <th>1</th>\n",
              "      <td>1.0</td>\n",
              "      <td>1.0</td>\n",
              "    </tr>\n",
              "    <tr>\n",
              "      <th>2</th>\n",
              "      <td>1.0</td>\n",
              "      <td>1.0</td>\n",
              "    </tr>\n",
              "    <tr>\n",
              "      <th>3</th>\n",
              "      <td>1.0</td>\n",
              "      <td>1.0</td>\n",
              "    </tr>\n",
              "    <tr>\n",
              "      <th>4</th>\n",
              "      <td>0.0</td>\n",
              "      <td>1.0</td>\n",
              "    </tr>\n",
              "    <tr>\n",
              "      <th>...</th>\n",
              "      <td>...</td>\n",
              "      <td>...</td>\n",
              "    </tr>\n",
              "    <tr>\n",
              "      <th>681</th>\n",
              "      <td>0.0</td>\n",
              "      <td>0.0</td>\n",
              "    </tr>\n",
              "    <tr>\n",
              "      <th>682</th>\n",
              "      <td>1.0</td>\n",
              "      <td>1.0</td>\n",
              "    </tr>\n",
              "    <tr>\n",
              "      <th>683</th>\n",
              "      <td>0.0</td>\n",
              "      <td>0.0</td>\n",
              "    </tr>\n",
              "    <tr>\n",
              "      <th>684</th>\n",
              "      <td>0.0</td>\n",
              "      <td>1.0</td>\n",
              "    </tr>\n",
              "    <tr>\n",
              "      <th>685</th>\n",
              "      <td>0.0</td>\n",
              "      <td>1.0</td>\n",
              "    </tr>\n",
              "  </tbody>\n",
              "</table>\n",
              "<p>686 rows × 2 columns</p>\n",
              "</div>"
            ],
            "text/plain": [
              "     horTh=yes  menostat=Post\n",
              "0          0.0            1.0\n",
              "1          1.0            1.0\n",
              "2          1.0            1.0\n",
              "3          1.0            1.0\n",
              "4          0.0            1.0\n",
              "..         ...            ...\n",
              "681        0.0            0.0\n",
              "682        1.0            1.0\n",
              "683        0.0            0.0\n",
              "684        0.0            1.0\n",
              "685        0.0            1.0\n",
              "\n",
              "[686 rows x 2 columns]"
            ]
          },
          "metadata": {
            "tags": []
          },
          "execution_count": 48
        }
      ]
    },
    {
      "cell_type": "code",
      "metadata": {
        "id": "x7z7mZQzRI4A",
        "colab_type": "code",
        "colab": {}
      },
      "source": [
        "# Drop string columns\n",
        "X = X.drop(['horTh', 'menostat', 'tgrade'], axis=1)"
      ],
      "execution_count": null,
      "outputs": []
    },
    {
      "cell_type": "code",
      "metadata": {
        "id": "qoTTz51GRcsF",
        "colab_type": "code",
        "colab": {
          "base_uri": "https://localhost:8080/",
          "height": 419
        },
        "outputId": "8b80a5c5-c0b0-4c54-fdbb-9782edd9f07b"
      },
      "source": [
        "# Add transformed numerical columns back to the dataset\n",
        "X['tgrade'] = tgrade\n",
        "X = pd.concat([X, cols], axis=1)\n",
        "X.head()"
      ],
      "execution_count": null,
      "outputs": [
        {
          "output_type": "execute_result",
          "data": {
            "text/html": [
              "<div>\n",
              "<style scoped>\n",
              "    .dataframe tbody tr th:only-of-type {\n",
              "        vertical-align: middle;\n",
              "    }\n",
              "\n",
              "    .dataframe tbody tr th {\n",
              "        vertical-align: top;\n",
              "    }\n",
              "\n",
              "    .dataframe thead th {\n",
              "        text-align: right;\n",
              "    }\n",
              "</style>\n",
              "<table border=\"1\" class=\"dataframe\">\n",
              "  <thead>\n",
              "    <tr style=\"text-align: right;\">\n",
              "      <th></th>\n",
              "      <th>age</th>\n",
              "      <th>estrec</th>\n",
              "      <th>pnodes</th>\n",
              "      <th>progrec</th>\n",
              "      <th>tsize</th>\n",
              "      <th>tgrade</th>\n",
              "    </tr>\n",
              "  </thead>\n",
              "  <tbody>\n",
              "    <tr>\n",
              "      <th>0</th>\n",
              "      <td>70.0</td>\n",
              "      <td>66.0</td>\n",
              "      <td>3.0</td>\n",
              "      <td>48.0</td>\n",
              "      <td>21.0</td>\n",
              "      <td>1.0</td>\n",
              "    </tr>\n",
              "    <tr>\n",
              "      <th>1</th>\n",
              "      <td>56.0</td>\n",
              "      <td>77.0</td>\n",
              "      <td>7.0</td>\n",
              "      <td>61.0</td>\n",
              "      <td>12.0</td>\n",
              "      <td>1.0</td>\n",
              "    </tr>\n",
              "    <tr>\n",
              "      <th>2</th>\n",
              "      <td>58.0</td>\n",
              "      <td>271.0</td>\n",
              "      <td>9.0</td>\n",
              "      <td>52.0</td>\n",
              "      <td>35.0</td>\n",
              "      <td>1.0</td>\n",
              "    </tr>\n",
              "    <tr>\n",
              "      <th>3</th>\n",
              "      <td>59.0</td>\n",
              "      <td>29.0</td>\n",
              "      <td>4.0</td>\n",
              "      <td>60.0</td>\n",
              "      <td>17.0</td>\n",
              "      <td>1.0</td>\n",
              "    </tr>\n",
              "    <tr>\n",
              "      <th>4</th>\n",
              "      <td>73.0</td>\n",
              "      <td>65.0</td>\n",
              "      <td>1.0</td>\n",
              "      <td>26.0</td>\n",
              "      <td>35.0</td>\n",
              "      <td>1.0</td>\n",
              "    </tr>\n",
              "    <tr>\n",
              "      <th>...</th>\n",
              "      <td>...</td>\n",
              "      <td>...</td>\n",
              "      <td>...</td>\n",
              "      <td>...</td>\n",
              "      <td>...</td>\n",
              "      <td>...</td>\n",
              "    </tr>\n",
              "    <tr>\n",
              "      <th>681</th>\n",
              "      <td>49.0</td>\n",
              "      <td>84.0</td>\n",
              "      <td>3.0</td>\n",
              "      <td>1.0</td>\n",
              "      <td>30.0</td>\n",
              "      <td>2.0</td>\n",
              "    </tr>\n",
              "    <tr>\n",
              "      <th>682</th>\n",
              "      <td>53.0</td>\n",
              "      <td>0.0</td>\n",
              "      <td>17.0</td>\n",
              "      <td>0.0</td>\n",
              "      <td>25.0</td>\n",
              "      <td>2.0</td>\n",
              "    </tr>\n",
              "    <tr>\n",
              "      <th>683</th>\n",
              "      <td>51.0</td>\n",
              "      <td>0.0</td>\n",
              "      <td>5.0</td>\n",
              "      <td>43.0</td>\n",
              "      <td>25.0</td>\n",
              "      <td>2.0</td>\n",
              "    </tr>\n",
              "    <tr>\n",
              "      <th>684</th>\n",
              "      <td>52.0</td>\n",
              "      <td>34.0</td>\n",
              "      <td>3.0</td>\n",
              "      <td>15.0</td>\n",
              "      <td>23.0</td>\n",
              "      <td>1.0</td>\n",
              "    </tr>\n",
              "    <tr>\n",
              "      <th>685</th>\n",
              "      <td>55.0</td>\n",
              "      <td>15.0</td>\n",
              "      <td>9.0</td>\n",
              "      <td>116.0</td>\n",
              "      <td>23.0</td>\n",
              "      <td>1.0</td>\n",
              "    </tr>\n",
              "  </tbody>\n",
              "</table>\n",
              "<p>686 rows × 6 columns</p>\n",
              "</div>"
            ],
            "text/plain": [
              "      age  estrec  pnodes  progrec  tsize  tgrade\n",
              "0    70.0    66.0     3.0     48.0   21.0     1.0\n",
              "1    56.0    77.0     7.0     61.0   12.0     1.0\n",
              "2    58.0   271.0     9.0     52.0   35.0     1.0\n",
              "3    59.0    29.0     4.0     60.0   17.0     1.0\n",
              "4    73.0    65.0     1.0     26.0   35.0     1.0\n",
              "..    ...     ...     ...      ...    ...     ...\n",
              "681  49.0    84.0     3.0      1.0   30.0     2.0\n",
              "682  53.0     0.0    17.0      0.0   25.0     2.0\n",
              "683  51.0     0.0     5.0     43.0   25.0     2.0\n",
              "684  52.0    34.0     3.0     15.0   23.0     1.0\n",
              "685  55.0    15.0     9.0    116.0   23.0     1.0\n",
              "\n",
              "[686 rows x 6 columns]"
            ]
          },
          "metadata": {
            "tags": []
          },
          "execution_count": 52
        }
      ]
    },
    {
      "cell_type": "markdown",
      "metadata": {
        "id": "NDPby8DfcI8D",
        "colab_type": "text"
      },
      "source": [
        "## Random Forest Model Development"
      ]
    },
    {
      "cell_type": "code",
      "metadata": {
        "id": "EWPxyJ7ROngx",
        "colab_type": "code",
        "colab": {}
      },
      "source": [
        "# Split dataset into train and test set\n",
        "random_state = 20\n",
        "\n",
        "X_train, X_test, y_train, y_test = train_test_split(\n",
        "    X, y, test_size=0.25, random_state=random_state)"
      ],
      "execution_count": null,
      "outputs": []
    },
    {
      "cell_type": "code",
      "metadata": {
        "id": "ssJZDyKhLxSO",
        "colab_type": "code",
        "colab": {}
      },
      "source": [
        "# Random Survival Forest model\n",
        "rsf = RandomSurvivalForest(n_estimators=1000, # number of trees\n",
        "                           min_samples_split=10, # The minimum number of samples required to split an internal node\n",
        "                           min_samples_leaf=15, # The minimum number of samples required to be at a leaf node\n",
        "                           max_features=\"sqrt\", # The number of features to consider when looking for the best split, sqrt(n_features)\n",
        "                           n_jobs=-1,\n",
        "                           random_state=20)"
      ],
      "execution_count": null,
      "outputs": []
    },
    {
      "cell_type": "code",
      "metadata": {
        "id": "ZJ2ZI8AmcMyw",
        "colab_type": "code",
        "colab": {
          "base_uri": "https://localhost:8080/",
          "height": 102
        },
        "outputId": "8f712d98-f06b-4998-9098-bc1b966988e1"
      },
      "source": [
        "# Fit the model to the training dataset\n",
        "rsf.fit(X_train, y_train)"
      ],
      "execution_count": null,
      "outputs": [
        {
          "output_type": "execute_result",
          "data": {
            "text/plain": [
              "RandomSurvivalForest(bootstrap=True, max_depth=None, max_features='sqrt',\n",
              "                     max_leaf_nodes=None, max_samples=None, min_samples_leaf=15,\n",
              "                     min_samples_split=10, min_weight_fraction_leaf=0.0,\n",
              "                     n_estimators=1000, n_jobs=-1, oob_score=False,\n",
              "                     random_state=20, verbose=0, warm_start=False)"
            ]
          },
          "metadata": {
            "tags": []
          },
          "execution_count": 57
        }
      ]
    },
    {
      "cell_type": "code",
      "metadata": {
        "id": "YOVprBnudPHM",
        "colab_type": "code",
        "colab": {
          "base_uri": "https://localhost:8080/",
          "height": 34
        },
        "outputId": "d537649e-e23e-4a68-8b45-c2d609e8f5aa"
      },
      "source": [
        "rsf.score(X_train, y_train) # concordance index in train dataset"
      ],
      "execution_count": null,
      "outputs": [
        {
          "output_type": "execute_result",
          "data": {
            "text/plain": [
              "0.7618799091881736"
            ]
          },
          "metadata": {
            "tags": []
          },
          "execution_count": 153
        }
      ]
    },
    {
      "cell_type": "code",
      "metadata": {
        "id": "49Np5YgWsItE",
        "colab_type": "code",
        "colab": {
          "base_uri": "https://localhost:8080/",
          "height": 34
        },
        "outputId": "c6e2bd6f-fb18-4d1a-b035-5e68d9aba41c"
      },
      "source": [
        "rsf.score(X_test, y_test) # concordance index in test dataset"
      ],
      "execution_count": null,
      "outputs": [
        {
          "output_type": "execute_result",
          "data": {
            "text/plain": [
              "0.6776729559748428"
            ]
          },
          "metadata": {
            "tags": []
          },
          "execution_count": 154
        }
      ]
    },
    {
      "cell_type": "markdown",
      "metadata": {
        "id": "E0e0tCB8d0vg",
        "colab_type": "text"
      },
      "source": [
        "## Prediction"
      ]
    },
    {
      "cell_type": "code",
      "metadata": {
        "id": "EFXDG5AKcWKC",
        "colab_type": "code",
        "colab": {
          "base_uri": "https://localhost:8080/",
          "height": 221
        },
        "outputId": "054cbef4-07dd-485e-d6d6-1a04cfd2c821"
      },
      "source": [
        "# predict risk score in test set\n",
        "yhat = pd.Series(rsf.predict(X_test)) \n",
        "yhat"
      ],
      "execution_count": null,
      "outputs": [
        {
          "output_type": "execute_result",
          "data": {
            "text/plain": [
              "0       30.334004\n",
              "1       49.168384\n",
              "2      152.973614\n",
              "3       35.881419\n",
              "4       87.873481\n",
              "          ...    \n",
              "167    104.061038\n",
              "168     52.204204\n",
              "169     30.025705\n",
              "170     98.328295\n",
              "171    153.254622\n",
              "Length: 172, dtype: float64"
            ]
          },
          "metadata": {
            "tags": []
          },
          "execution_count": 72
        }
      ]
    },
    {
      "cell_type": "code",
      "metadata": {
        "id": "wMKEf_T-eCg3",
        "colab_type": "code",
        "colab": {
          "base_uri": "https://localhost:8080/",
          "height": 279
        },
        "outputId": "25db0c9f-8be0-43c8-c8e9-f7b6efc2be3a"
      },
      "source": [
        "# predict survival probability\n",
        "surv = rsf.predict_survival_function(X_test) \n",
        "\n",
        "for i, s in enumerate(surv):\n",
        "    plt.step(rsf.event_times_, s, where=\"post\", label=str(i))\n",
        "plt.ylabel(\"Survival probability\")\n",
        "plt.xlabel(\"Time in days\")\n",
        "plt.grid(True)"
      ],
      "execution_count": null,
      "outputs": [
        {
          "output_type": "display_data",
          "data": {
            "image/png": "[encoded data removed]",
            "text/plain": [
              "<Figure size 432x288 with 1 Axes>"
            ]
          },
          "metadata": {
            "tags": [],
            "needs_background": "light"
          }
        }
      ]
    },
    {
      "cell_type": "code",
      "metadata": {
        "id": "MseuDqOqeF2R",
        "colab_type": "code",
        "colab": {
          "base_uri": "https://localhost:8080/",
          "height": 279
        },
        "outputId": "f745e033-03a4-4721-f2b5-b405efd12f8b"
      },
      "source": [
        "# predict cumulative hazard function\n",
        "surv = rsf.predict_cumulative_hazard_function(X_test)\n",
        "\n",
        "for i, s in enumerate(surv):\n",
        "    plt.step(rsf.event_times_, s, where=\"post\", label=str(i))\n",
        "plt.ylabel(\"Cumulative hazard\")\n",
        "plt.xlabel(\"Time in days\")\n",
        "plt.grid(True)"
      ],
      "execution_count": null,
      "outputs": [
        {
          "output_type": "display_data",
          "data": {
            "image/png": "[encoded data removed]",
            "text/plain": [
              "<Figure size 432x288 with 1 Axes>"
            ]
          },
          "metadata": {
            "tags": [],
            "needs_background": "light"
          }
        }
      ]
    },
    {
      "cell_type": "markdown",
      "metadata": {
        "id": "hIlZ502tfgj-",
        "colab_type": "text"
      },
      "source": [
        "## Permutation-based Feature Importance"
      ]
    },
    {
      "cell_type": "code",
      "metadata": {
        "id": "pMTpRccYfmaN",
        "colab_type": "code",
        "colab": {}
      },
      "source": [
        "# calculate feature importances\n",
        "result = permutation_importance(rsf, X_test, y_test, n_repeats=10, random_state=20)"
      ],
      "execution_count": null,
      "outputs": []
    },
    {
      "cell_type": "code",
      "metadata": {
        "id": "x_sW-8LufY6S",
        "colab_type": "code",
        "colab": {
          "base_uri": "https://localhost:8080/",
          "height": 297
        },
        "outputId": "cdc9ad76-0a83-439e-d7b1-d909959c18d9"
      },
      "source": [
        "sorted_idx = result.importances_mean.argsort()\n",
        "\n",
        "fig, ax = plt.subplots()\n",
        "ax.boxplot(result.importances[sorted_idx].T,\n",
        "           vert=False, labels=X.columns[sorted_idx])\n",
        "ax.set_title(\"Permutation Importances (test set)\")\n",
        "fig.tight_layout()\n",
        "plt.show()"
      ],
      "execution_count": null,
      "outputs": [
        {
          "output_type": "display_data",
          "data": {
            "image/png": "[encoded data removed]",
            "text/plain": [
              "<Figure size 432x288 with 1 Axes>"
            ]
          },
          "metadata": {
            "tags": [],
            "needs_background": "light"
          }
        }
      ]
    },
    {
      "cell_type": "code",
      "metadata": {
        "id": "5PGtIndNiI8H",
        "colab_type": "code",
        "colab": {}
      },
      "source": [
        ""
      ],
      "execution_count": null,
      "outputs": []
    },
    {
      "cell_type": "markdown",
      "metadata": {
        "id": "mEnswAtOjQDv",
        "colab_type": "text"
      },
      "source": [
        "## Cox Proportional Hazard Model Development"
      ]
    },
    {
      "cell_type": "code",
      "metadata": {
        "id": "sgSYfmr3iJXA",
        "colab_type": "code",
        "colab": {}
      },
      "source": [
        "# Initialize CoxPH\n",
        "coxph = CoxPHSurvivalAnalysis()"
      ],
      "execution_count": null,
      "outputs": []
    },
    {
      "cell_type": "code",
      "metadata": {
        "id": "TyGrAzR1jhwc",
        "colab_type": "code",
        "colab": {}
      },
      "source": [
        "# Fit data into the training set\n",
        "coxph.fit(X_train, y_train)"
      ],
      "execution_count": null,
      "outputs": []
    },
    {
      "cell_type": "code",
      "metadata": {
        "id": "ZZtdHZqXiO-O",
        "colab_type": "code",
        "colab": {
          "base_uri": "https://localhost:8080/",
          "height": 34
        },
        "outputId": "32171cba-4365-49b8-c1e1-68cbbc7683d5"
      },
      "source": [
        "# Calculcate C-index in train dataset\n",
        "coxph.score(X_train, y_train) "
      ],
      "execution_count": null,
      "outputs": [
        {
          "output_type": "execute_result",
          "data": {
            "text/plain": [
              "0.6888781607995615"
            ]
          },
          "metadata": {
            "tags": []
          },
          "execution_count": 152
        }
      ]
    },
    {
      "cell_type": "code",
      "metadata": {
        "id": "tbnQvskUsQde",
        "colab_type": "code",
        "colab": {
          "base_uri": "https://localhost:8080/",
          "height": 34
        },
        "outputId": "c0933a24-cf44-43d1-9a14-a70faf8a097f"
      },
      "source": [
        "# Calculcate C-index in test dataset\n",
        "coxph.score(X_test, y_test) "
      ],
      "execution_count": null,
      "outputs": [
        {
          "output_type": "execute_result",
          "data": {
            "text/plain": [
              "0.6654874213836478"
            ]
          },
          "metadata": {
            "tags": []
          },
          "execution_count": 156
        }
      ]
    },
    {
      "cell_type": "code",
      "metadata": {
        "id": "EIcGJJCFiiFQ",
        "colab_type": "code",
        "colab": {
          "base_uri": "https://localhost:8080/",
          "height": 349
        },
        "outputId": "c641de6a-a893-49f3-bfc6-724a49068fc7"
      },
      "source": [
        "# Visualize CoxPH features coefficient\n",
        "pd.Series(coxph.coef_, index=X.columns).sort_values(ascending=False).plot.bar()"
      ],
      "execution_count": null,
      "outputs": [
        {
          "output_type": "execute_result",
          "data": {
            "text/plain": [
              "<matplotlib.axes._subplots.AxesSubplot at 0x7f12518e7ac8>"
            ]
          },
          "metadata": {
            "tags": []
          },
          "execution_count": 94
        },
        {
          "output_type": "display_data",
          "data": {
            "image/png": "[encoded data removed]",
            "text/plain": [
              "<Figure size 432x288 with 1 Axes>"
            ]
          },
          "metadata": {
            "tags": [],
            "needs_background": "light"
          }
        }
      ]
    },
    {
      "cell_type": "code",
      "metadata": {
        "id": "vGqHbJQLlOZy",
        "colab_type": "code",
        "colab": {
          "base_uri": "https://localhost:8080/",
          "height": 170
        },
        "outputId": "e3778e99-6521-4488-a271-1615fe8fb3a6"
      },
      "source": [
        "# Create scoring function, apply CoxPH with one feature at a time (foward selection)\n",
        "def fit_and_score_features(X, y):\n",
        "    n_features = X.shape[1]\n",
        "    scores = np.empty(n_features)\n",
        "    m = CoxPHSurvivalAnalysis()\n",
        "    for j in range(n_features):\n",
        "        Xj = X[:, j:j+1]\n",
        "        m.fit(Xj, y)\n",
        "        scores[j] = m.score(Xj, y)\n",
        "    return scores\n",
        "\n",
        "scores = fit_and_score_features(X.values, y)\n",
        "pd.Series(scores, index=X.columns).sort_values(ascending=False)"
      ],
      "execution_count": null,
      "outputs": [
        {
          "output_type": "execute_result",
          "data": {
            "text/plain": [
              "pnodes           0.645245\n",
              "progrec          0.636411\n",
              "estrec           0.591000\n",
              "tgrade           0.577229\n",
              "tsize            0.571822\n",
              "horTh=yes        0.543262\n",
              "age              0.518554\n",
              "menostat=Post    0.494792\n",
              "dtype: float64"
            ]
          },
          "metadata": {
            "tags": []
          },
          "execution_count": 99
        }
      ]
    },
    {
      "cell_type": "code",
      "metadata": {
        "id": "_maL_uI-kMvr",
        "colab_type": "code",
        "colab": {}
      },
      "source": [
        "pipe = Pipeline([\n",
        "    ('select', SelectKBest(fit_and_score_features, k=5)),\n",
        "    ('model', CoxPHSurvivalAnalysis())])"
      ],
      "execution_count": null,
      "outputs": []
    },
    {
      "cell_type": "code",
      "metadata": {
        "id": "Bfj_tvZSisXk",
        "colab_type": "code",
        "colab": {
          "base_uri": "https://localhost:8080/",
          "height": 453
        },
        "outputId": "c3de3e3b-241e-4d31-8ffc-ef3d8ecb120f"
      },
      "source": [
        "param_grid = {'select__k': np.arange(1, X.shape[1] + 1)}\n",
        "gs = GridSearchCV(pipe, param_grid, return_train_score=True, cv=5)\n",
        "gs.fit(X_train, y_train)\n",
        "\n",
        "pd.DataFrame(gs.cv_results_).sort_values(by='mean_test_score', ascending=False)"
      ],
      "execution_count": null,
      "outputs": [
        {
          "output_type": "execute_result",
          "data": {
            "text/html": [
              "<div>\n",
              "<style scoped>\n",
              "    .dataframe tbody tr th:only-of-type {\n",
              "        vertical-align: middle;\n",
              "    }\n",
              "\n",
              "    .dataframe tbody tr th {\n",
              "        vertical-align: top;\n",
              "    }\n",
              "\n",
              "    .dataframe thead th {\n",
              "        text-align: right;\n",
              "    }\n",
              "</style>\n",
              "<table border=\"1\" class=\"dataframe\">\n",
              "  <thead>\n",
              "    <tr style=\"text-align: right;\">\n",
              "      <th></th>\n",
              "      <th>mean_fit_time</th>\n",
              "      <th>std_fit_time</th>\n",
              "      <th>mean_score_time</th>\n",
              "      <th>std_score_time</th>\n",
              "      <th>param_select__k</th>\n",
              "      <th>params</th>\n",
              "      <th>split0_test_score</th>\n",
              "      <th>split1_test_score</th>\n",
              "      <th>split2_test_score</th>\n",
              "      <th>split3_test_score</th>\n",
              "      <th>split4_test_score</th>\n",
              "      <th>mean_test_score</th>\n",
              "      <th>std_test_score</th>\n",
              "      <th>rank_test_score</th>\n",
              "      <th>split0_train_score</th>\n",
              "      <th>split1_train_score</th>\n",
              "      <th>split2_train_score</th>\n",
              "      <th>split3_train_score</th>\n",
              "      <th>split4_train_score</th>\n",
              "      <th>mean_train_score</th>\n",
              "      <th>std_train_score</th>\n",
              "    </tr>\n",
              "  </thead>\n",
              "  <tbody>\n",
              "    <tr>\n",
              "      <th>1</th>\n",
              "      <td>0.556051</td>\n",
              "      <td>0.024653</td>\n",
              "      <td>0.002918</td>\n",
              "      <td>0.000124</td>\n",
              "      <td>2</td>\n",
              "      <td>{'select__k': 2}</td>\n",
              "      <td>0.744219</td>\n",
              "      <td>0.679242</td>\n",
              "      <td>0.673083</td>\n",
              "      <td>0.660056</td>\n",
              "      <td>0.694390</td>\n",
              "      <td>0.690198</td>\n",
              "      <td>0.029180</td>\n",
              "      <td>1</td>\n",
              "      <td>0.673697</td>\n",
              "      <td>0.693188</td>\n",
              "      <td>0.691492</td>\n",
              "      <td>0.698017</td>\n",
              "      <td>0.686731</td>\n",
              "      <td>0.688625</td>\n",
              "      <td>0.008291</td>\n",
              "    </tr>\n",
              "    <tr>\n",
              "      <th>5</th>\n",
              "      <td>0.552256</td>\n",
              "      <td>0.020741</td>\n",
              "      <td>0.002938</td>\n",
              "      <td>0.000134</td>\n",
              "      <td>6</td>\n",
              "      <td>{'select__k': 6}</td>\n",
              "      <td>0.744219</td>\n",
              "      <td>0.628485</td>\n",
              "      <td>0.703061</td>\n",
              "      <td>0.639172</td>\n",
              "      <td>0.653871</td>\n",
              "      <td>0.673762</td>\n",
              "      <td>0.043508</td>\n",
              "      <td>2</td>\n",
              "      <td>0.682057</td>\n",
              "      <td>0.691696</td>\n",
              "      <td>0.685915</td>\n",
              "      <td>0.696040</td>\n",
              "      <td>0.694779</td>\n",
              "      <td>0.690098</td>\n",
              "      <td>0.005328</td>\n",
              "    </tr>\n",
              "    <tr>\n",
              "      <th>2</th>\n",
              "      <td>0.561194</td>\n",
              "      <td>0.016755</td>\n",
              "      <td>0.003093</td>\n",
              "      <td>0.000454</td>\n",
              "      <td>3</td>\n",
              "      <td>{'select__k': 3}</td>\n",
              "      <td>0.745998</td>\n",
              "      <td>0.644697</td>\n",
              "      <td>0.668507</td>\n",
              "      <td>0.660758</td>\n",
              "      <td>0.646161</td>\n",
              "      <td>0.673224</td>\n",
              "      <td>0.037470</td>\n",
              "      <td>3</td>\n",
              "      <td>0.674038</td>\n",
              "      <td>0.692499</td>\n",
              "      <td>0.692770</td>\n",
              "      <td>0.696863</td>\n",
              "      <td>0.690306</td>\n",
              "      <td>0.689295</td>\n",
              "      <td>0.007917</td>\n",
              "    </tr>\n",
              "    <tr>\n",
              "      <th>6</th>\n",
              "      <td>0.556867</td>\n",
              "      <td>0.019730</td>\n",
              "      <td>0.002932</td>\n",
              "      <td>0.000207</td>\n",
              "      <td>7</td>\n",
              "      <td>{'select__k': 7}</td>\n",
              "      <td>0.743863</td>\n",
              "      <td>0.628788</td>\n",
              "      <td>0.698959</td>\n",
              "      <td>0.639523</td>\n",
              "      <td>0.647310</td>\n",
              "      <td>0.671688</td>\n",
              "      <td>0.043410</td>\n",
              "      <td>4</td>\n",
              "      <td>0.680213</td>\n",
              "      <td>0.693699</td>\n",
              "      <td>0.684472</td>\n",
              "      <td>0.694977</td>\n",
              "      <td>0.693104</td>\n",
              "      <td>0.689293</td>\n",
              "      <td>0.005864</td>\n",
              "    </tr>\n",
              "    <tr>\n",
              "      <th>4</th>\n",
              "      <td>0.556948</td>\n",
              "      <td>0.025768</td>\n",
              "      <td>0.002915</td>\n",
              "      <td>0.000152</td>\n",
              "      <td>5</td>\n",
              "      <td>{'select__k': 5}</td>\n",
              "      <td>0.753469</td>\n",
              "      <td>0.625152</td>\n",
              "      <td>0.699590</td>\n",
              "      <td>0.633907</td>\n",
              "      <td>0.643045</td>\n",
              "      <td>0.671032</td>\n",
              "      <td>0.048740</td>\n",
              "      <td>5</td>\n",
              "      <td>0.674108</td>\n",
              "      <td>0.685322</td>\n",
              "      <td>0.683256</td>\n",
              "      <td>0.693652</td>\n",
              "      <td>0.693686</td>\n",
              "      <td>0.686005</td>\n",
              "      <td>0.007308</td>\n",
              "    </tr>\n",
              "    <tr>\n",
              "      <th>7</th>\n",
              "      <td>0.572650</td>\n",
              "      <td>0.015730</td>\n",
              "      <td>0.002930</td>\n",
              "      <td>0.000176</td>\n",
              "      <td>8</td>\n",
              "      <td>{'select__k': 8}</td>\n",
              "      <td>0.741017</td>\n",
              "      <td>0.628182</td>\n",
              "      <td>0.690754</td>\n",
              "      <td>0.637417</td>\n",
              "      <td>0.649934</td>\n",
              "      <td>0.669461</td>\n",
              "      <td>0.041679</td>\n",
              "      <td>6</td>\n",
              "      <td>0.679030</td>\n",
              "      <td>0.693678</td>\n",
              "      <td>0.687317</td>\n",
              "      <td>0.697285</td>\n",
              "      <td>0.692573</td>\n",
              "      <td>0.689977</td>\n",
              "      <td>0.006337</td>\n",
              "    </tr>\n",
              "    <tr>\n",
              "      <th>3</th>\n",
              "      <td>0.554155</td>\n",
              "      <td>0.017498</td>\n",
              "      <td>0.002907</td>\n",
              "      <td>0.000118</td>\n",
              "      <td>4</td>\n",
              "      <td>{'select__k': 4}</td>\n",
              "      <td>0.752046</td>\n",
              "      <td>0.632273</td>\n",
              "      <td>0.681919</td>\n",
              "      <td>0.635311</td>\n",
              "      <td>0.636647</td>\n",
              "      <td>0.667639</td>\n",
              "      <td>0.046010</td>\n",
              "      <td>7</td>\n",
              "      <td>0.672554</td>\n",
              "      <td>0.686522</td>\n",
              "      <td>0.684750</td>\n",
              "      <td>0.697475</td>\n",
              "      <td>0.693002</td>\n",
              "      <td>0.686861</td>\n",
              "      <td>0.008481</td>\n",
              "    </tr>\n",
              "    <tr>\n",
              "      <th>0</th>\n",
              "      <td>0.563401</td>\n",
              "      <td>0.012548</td>\n",
              "      <td>0.002847</td>\n",
              "      <td>0.000094</td>\n",
              "      <td>1</td>\n",
              "      <td>{'select__k': 1}</td>\n",
              "      <td>0.676094</td>\n",
              "      <td>0.613030</td>\n",
              "      <td>0.633954</td>\n",
              "      <td>0.576869</td>\n",
              "      <td>0.630249</td>\n",
              "      <td>0.626039</td>\n",
              "      <td>0.032165</td>\n",
              "      <td>8</td>\n",
              "      <td>0.641139</td>\n",
              "      <td>0.655091</td>\n",
              "      <td>0.650765</td>\n",
              "      <td>0.654619</td>\n",
              "      <td>0.643644</td>\n",
              "      <td>0.649051</td>\n",
              "      <td>0.005697</td>\n",
              "    </tr>\n",
              "  </tbody>\n",
              "</table>\n",
              "</div>"
            ],
            "text/plain": [
              "   mean_fit_time  std_fit_time  ...  mean_train_score  std_train_score\n",
              "1       0.556051      0.024653  ...          0.688625         0.008291\n",
              "5       0.552256      0.020741  ...          0.690098         0.005328\n",
              "2       0.561194      0.016755  ...          0.689295         0.007917\n",
              "6       0.556867      0.019730  ...          0.689293         0.005864\n",
              "4       0.556948      0.025768  ...          0.686005         0.007308\n",
              "7       0.572650      0.015730  ...          0.689977         0.006337\n",
              "3       0.554155      0.017498  ...          0.686861         0.008481\n",
              "0       0.563401      0.012548  ...          0.649051         0.005697\n",
              "\n",
              "[8 rows x 21 columns]"
            ]
          },
          "metadata": {
            "tags": []
          },
          "execution_count": 167
        }
      ]
    },
    {
      "cell_type": "code",
      "metadata": {
        "id": "t_2bObvenULd",
        "colab_type": "code",
        "colab": {
          "base_uri": "https://localhost:8080/",
          "height": 153
        },
        "outputId": "2669a532-281a-4fcb-d8d5-a012d0da2b79"
      },
      "source": [
        "# Get new params using best parameter from gridsearch\n",
        "pipe.set_params(**gcv.best_params_)\n",
        "pipe.fit(X_train, y_train) # retrain with training dataset"
      ],
      "execution_count": null,
      "outputs": [
        {
          "output_type": "execute_result",
          "data": {
            "text/plain": [
              "Pipeline(memory=None,\n",
              "         steps=[('select',\n",
              "                 SelectKBest(k=2,\n",
              "                             score_func=<function fit_and_score_features at 0x7f1250b01bf8>)),\n",
              "                ('model',\n",
              "                 CoxPHSurvivalAnalysis(alpha=0, n_iter=100, ties='breslow',\n",
              "                                       tol=1e-09, verbose=0))],\n",
              "         verbose=False)"
            ]
          },
          "metadata": {
            "tags": []
          },
          "execution_count": 160
        }
      ]
    },
    {
      "cell_type": "code",
      "metadata": {
        "id": "fhOyLnN1nm2H",
        "colab_type": "code",
        "colab": {}
      },
      "source": [
        "# Select the final model from pipeline\n",
        "final_coxph = pipe.steps[1][1]\n",
        "# final_coxph.coef_"
      ],
      "execution_count": null,
      "outputs": []
    },
    {
      "cell_type": "code",
      "metadata": {
        "id": "PdFpq3W5o5y5",
        "colab_type": "code",
        "colab": {}
      },
      "source": [
        "# Select the final K features\n",
        "k = pipe.steps[0][1]"
      ],
      "execution_count": null,
      "outputs": []
    },
    {
      "cell_type": "code",
      "metadata": {
        "id": "evhq6seppP0v",
        "colab_type": "code",
        "colab": {
          "base_uri": "https://localhost:8080/",
          "height": 310
        },
        "outputId": "dc8af000-e819-4e4b-de4c-a7b461c19eb9"
      },
      "source": [
        "pd.Series(final_coxph.coef_, index = X.columns[k.get_support()]).plot.bar()"
      ],
      "execution_count": null,
      "outputs": [
        {
          "output_type": "execute_result",
          "data": {
            "text/plain": [
              "<matplotlib.axes._subplots.AxesSubplot at 0x7f1250cd4128>"
            ]
          },
          "metadata": {
            "tags": []
          },
          "execution_count": 163
        },
        {
          "output_type": "display_data",
          "data": {
            "image/png": "[encoded data removed]",
            "text/plain": [
              "<Figure size 432x288 with 1 Axes>"
            ]
          },
          "metadata": {
            "tags": [],
            "needs_background": "light"
          }
        }
      ]
    },
    {
      "cell_type": "code",
      "metadata": {
        "id": "Ouzm6vZ_qqtD",
        "colab_type": "code",
        "colab": {
          "base_uri": "https://localhost:8080/",
          "height": 34
        },
        "outputId": "d3c4f4a3-3c98-44c9-c146-1b95ce5da75e"
      },
      "source": [
        "pipe.score(X_train, y_train) "
      ],
      "execution_count": null,
      "outputs": [
        {
          "output_type": "execute_result",
          "data": {
            "text/plain": [
              "0.6894131155241252"
            ]
          },
          "metadata": {
            "tags": []
          },
          "execution_count": 164
        }
      ]
    },
    {
      "cell_type": "code",
      "metadata": {
        "id": "gVgIHJpusdAv",
        "colab_type": "code",
        "colab": {
          "base_uri": "https://localhost:8080/",
          "height": 34
        },
        "outputId": "5a6c6183-272f-47f9-c830-4f01fe178703"
      },
      "source": [
        "pipe.score(X_test, y_test) # actually worst than using all the features"
      ],
      "execution_count": null,
      "outputs": [
        {
          "output_type": "execute_result",
          "data": {
            "text/plain": [
              "0.6465539832285115"
            ]
          },
          "metadata": {
            "tags": []
          },
          "execution_count": 165
        }
      ]
    }
  ]
}